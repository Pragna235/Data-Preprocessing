{
  "cells": [
    {
      "cell_type": "markdown",
      "metadata": {
        "id": "view-in-github",
        "colab_type": "text"
      },
      "source": [
        "<a href=\"https://colab.research.google.com/github/Pragna235/Data-Preprocessing/blob/main/Back_Propagation_Algorithm.ipynb\" target=\"_parent\"><img src=\"https://colab.research.google.com/assets/colab-badge.svg\" alt=\"Open In Colab\"/></a>"
      ]
    },
    {
      "cell_type": "code",
      "execution_count": 1,
      "id": "02c541e1",
      "metadata": {
        "id": "02c541e1"
      },
      "outputs": [],
      "source": [
        "import numpy as np"
      ]
    },
    {
      "cell_type": "code",
      "execution_count": 3,
      "id": "8b2ca14a",
      "metadata": {
        "id": "8b2ca14a"
      },
      "outputs": [],
      "source": [
        "# Define sigmoid activation function\n",
        "def sigmoid(x):\n",
        "    return 1 / (1 + np.exp(-x))\n",
        "\n",
        "# Define derivative of sigmoid function\n",
        "def sigmoid_derivative(x):\n",
        "    return x * (1 - x)"
      ]
    },
    {
      "cell_type": "code",
      "execution_count": 4,
      "id": "98cf6f86",
      "metadata": {
        "id": "98cf6f86",
        "outputId": "88dde0f2-d3d0-4dab-feda-53ce4926b447",
        "colab": {
          "base_uri": "https://localhost:8080/"
        }
      },
      "outputs": [
        {
          "name": "stdout",
          "output_type": "stream",
          "text": [
            "Enter input data separated by commas: 0.1,0.5\n"
          ]
        }
      ],
      "source": [
        "# Read input from user\n",
        "input_data = np.array(input(\"Enter input data separated by commas: \").split(','), dtype=float)"
      ]
    },
    {
      "cell_type": "code",
      "execution_count": 5,
      "id": "d755e12c",
      "metadata": {
        "id": "d755e12c",
        "outputId": "a9840e12-d282-41ce-f2c7-8020160f172b",
        "colab": {
          "base_uri": "https://localhost:8080/"
        }
      },
      "outputs": [
        {
          "name": "stdout",
          "output_type": "stream",
          "text": [
            "Enter number of hidden layers: 1\n"
          ]
        }
      ],
      "source": [
        "# Read number of hidden layers from user\n",
        "n_hidden_layers = int(input(\"Enter number of hidden layers: \"))"
      ]
    },
    {
      "cell_type": "code",
      "execution_count": 6,
      "id": "ce7cd9ca",
      "metadata": {
        "id": "ce7cd9ca",
        "outputId": "6d6304a1-df67-44fc-b829-f142fe9eb493",
        "colab": {
          "base_uri": "https://localhost:8080/"
        }
      },
      "outputs": [
        {
          "name": "stdout",
          "output_type": "stream",
          "text": [
            "Enter number of output neurons: 2\n"
          ]
        }
      ],
      "source": [
        "# Read number of output neurons from user\n",
        "n_output_neurons = int(input(\"Enter number of output neurons: \"))"
      ]
    },
    {
      "cell_type": "code",
      "execution_count": 7,
      "id": "0d9c07b9",
      "metadata": {
        "id": "0d9c07b9",
        "outputId": "0135031d-d390-4c99-871b-16b5b14615cf",
        "colab": {
          "base_uri": "https://localhost:8080/"
        }
      },
      "outputs": [
        {
          "name": "stdout",
          "output_type": "stream",
          "text": [
            "Enter bias values for layer 1 separated by commas: 0.25\n",
            "Enter bias values for layer 2 separated by commas: 0.35\n"
          ]
        }
      ],
      "source": [
        "# Read bias values from user\n",
        "bias_values = []\n",
        "for i in range(n_hidden_layers+1):\n",
        "    bias_values.append(np.array(input(f\"Enter bias values for layer {i+1} separated by commas: \").split(','), dtype=float))"
      ]
    },
    {
      "cell_type": "code",
      "execution_count": 8,
      "id": "c4aaa5ed",
      "metadata": {
        "id": "c4aaa5ed"
      },
      "outputs": [],
      "source": [
        "# Define neural network architecture\n",
        "input_layer_size = input_data.shape[0]\n",
        "hidden_layer_sizes = []\n",
        "weights = []"
      ]
    },
    {
      "cell_type": "code",
      "execution_count": 9,
      "id": "ff9022e7",
      "metadata": {
        "id": "ff9022e7",
        "outputId": "c22d4d4f-de66-458f-ffbf-92d09ed862a8",
        "colab": {
          "base_uri": "https://localhost:8080/"
        }
      },
      "outputs": [
        {
          "name": "stdout",
          "output_type": "stream",
          "text": [
            "Enter number of neurons in hidden layer 1: 2\n",
            "Enter weights for input layer to hidden layer 1 separated by commas: 0.1,0.2,0.3,0.4\n",
            "Enter weights for hidden layer 1 to output layer separated by commas: 0.5,0.6,0.7,0.8\n"
          ]
        }
      ],
      "source": [
        "for i in range(n_hidden_layers):\n",
        "    hidden_layer_sizes.append(int(input(f\"Enter number of neurons in hidden layer {i+1}: \")))\n",
        "    if i == 0:\n",
        "        weights.append(np.array(input(f\"Enter weights for input layer to hidden layer {i+1} separated by commas: \").split(','), dtype=float).reshape(input_layer_size, hidden_layer_sizes[i]))\n",
        "    else:\n",
        "        weights.append(np.array(input(f\"Enter weights for hidden layer {i} to hidden layer {i+1} separated by commas: \").split(','), dtype=float).reshape(hidden_layer_sizes[i-1], hidden_layer_sizes[i]))\n",
        "weights.append(np.array(input(f\"Enter weights for hidden layer {n_hidden_layers} to output layer separated by commas: \").split(','), dtype=float).reshape(hidden_layer_sizes[-1], n_output_neurons))"
      ]
    },
    {
      "cell_type": "code",
      "execution_count": 10,
      "id": "c0d931b4",
      "metadata": {
        "id": "c0d931b4"
      },
      "outputs": [],
      "source": [
        "# Set hyperparameters\n",
        "learning_rate = 0.1\n",
        "num_iterations = 1000"
      ]
    },
    {
      "cell_type": "code",
      "execution_count": 11,
      "id": "73eecfa3",
      "metadata": {
        "id": "73eecfa3",
        "colab": {
          "base_uri": "https://localhost:8080/"
        },
        "outputId": "766f9ff1-cdaf-4197-df10-094fba412868"
      },
      "outputs": [
        {
          "name": "stdout",
          "output_type": "stream",
          "text": [
            "Enter target output separated by commas: 0.5,0.6\n"
          ]
        }
      ],
      "source": [
        "# Read target output from user\n",
        "target = np.array(input(f\"Enter target output separated by commas: \").split(','), dtype=float)"
      ]
    },
    {
      "cell_type": "code",
      "execution_count": 12,
      "id": "868b7baa",
      "metadata": {
        "id": "868b7baa",
        "colab": {
          "base_uri": "https://localhost:8080/"
        },
        "outputId": "3e15c9dd-a2c8-4242-da87-bc5a1032dbb3"
      },
      "outputs": [
        {
          "output_type": "stream",
          "name": "stdout",
          "text": [
            "Final output: [0.50364554 0.60426015]\n",
            "Target output: [0.5 0.6]\n",
            "Layer 1 weights: [[0.09051426 0.17902742]\n",
            " [0.25257129 0.29513709]]\n",
            "Layer 2 weights: [[-0.37270961 -0.03380342]\n",
            " [-0.18868124  0.15486928]]\n",
            "Layer 1 biases: [0.25]\n",
            "Layer 2 biases: [0.35]\n"
          ]
        }
      ],
      "source": [
        "# Train the neural network\n",
        "for i in range(num_iterations):\n",
        "\n",
        "    # Feedforward\n",
        "    hidden_layers = [input_data]\n",
        "    for j in range(len(hidden_layer_sizes)):\n",
        "        hidden_layer = sigmoid(np.dot(hidden_layers[j], weights[j]) + bias_values[j])\n",
        "        hidden_layers.append(hidden_layer)\n",
        "    output = sigmoid(np.dot(hidden_layers[-1], weights[-1]) + bias_values[-1])\n",
        "\n",
        "    # Backpropagation\n",
        "    error = output - target\n",
        "    delta = error * sigmoid_derivative(output)\n",
        "    deltas = [delta]\n",
        "    for j in range(len(hidden_layer_sizes)-1, -1, -1):\n",
        "        delta = np.dot(deltas[-1], weights[j+1].T) * sigmoid_derivative(hidden_layers[j+1])\n",
        "        deltas.append(delta)\n",
        "    deltas.reverse()\n",
        "\n",
        "    # Update weights and biases\n",
        "    for j in range(len(hidden_layer_sizes)+1):\n",
        "        if j == 0:\n",
        "            layer_input = input_data\n",
        "        else:\n",
        "            layer_input = hidden_layers[j]\n",
        "        dtran = np.transpose(deltas[j].reshape(-1,1))\n",
        "        x = np.dot(layer_input.reshape(-1,1), dtran)\n",
        "        #print(x.shape,weights[j].shape)\n",
        "        weights[j] -= learning_rate * x\n",
        "\n",
        "\n",
        "\n",
        "# Print final output and weights\n",
        "print(f\"Final output: {output}\")\n",
        "print(f\"Target output: {target}\")\n",
        "for i in range(len(weights)):\n",
        "    print(f\"Layer {i+1} weights: {weights[i]}\")\n",
        "for i in range(len(bias_values)):\n",
        "    print(f\"Layer {i+1} biases: {bias_values[i]}\")"
      ]
    }
  ],
  "metadata": {
    "kernelspec": {
      "display_name": "Python 3 (ipykernel)",
      "language": "python",
      "name": "python3"
    },
    "language_info": {
      "codemirror_mode": {
        "name": "ipython",
        "version": 3
      },
      "file_extension": ".py",
      "mimetype": "text/x-python",
      "name": "python",
      "nbconvert_exporter": "python",
      "pygments_lexer": "ipython3",
      "version": "3.9.13"
    },
    "colab": {
      "provenance": [],
      "include_colab_link": true
    }
  },
  "nbformat": 4,
  "nbformat_minor": 5
}
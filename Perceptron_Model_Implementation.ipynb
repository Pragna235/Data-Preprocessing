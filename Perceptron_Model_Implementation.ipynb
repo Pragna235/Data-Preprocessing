{
  "nbformat": 4,
  "nbformat_minor": 0,
  "metadata": {
    "colab": {
      "provenance": [],
      "authorship_tag": "ABX9TyMyoTHPLTWSRIYFyB606Ux6",
      "include_colab_link": true
    },
    "kernelspec": {
      "name": "python3",
      "display_name": "Python 3"
    },
    "language_info": {
      "name": "python"
    }
  },
  "cells": [
    {
      "cell_type": "markdown",
      "metadata": {
        "id": "view-in-github",
        "colab_type": "text"
      },
      "source": [
        "<a href=\"https://colab.research.google.com/github/Pragna235/Data-Preprocessing/blob/main/Perceptron_Model_Implementation.ipynb\" target=\"_parent\"><img src=\"https://colab.research.google.com/assets/colab-badge.svg\" alt=\"Open In Colab\"/></a>"
      ]
    },
    {
      "cell_type": "markdown",
      "source": [
        "# Using AND Gate"
      ],
      "metadata": {
        "id": "st7t-QN9w_4c"
      }
    },
    {
      "cell_type": "code",
      "execution_count": 2,
      "metadata": {
        "id": "M1F7FpHAwll0",
        "colab": {
          "base_uri": "https://localhost:8080/"
        },
        "outputId": "6bc8f2f4-ce72-4887-fa68-e67cf1b7a266"
      },
      "outputs": [
        {
          "output_type": "stream",
          "name": "stdout",
          "text": [
            "Updated Weights:\n",
            "w1: 0.4, w2: 0.19999999999999998, b: -0.5\n",
            "Input: (0, 0)  Output: 0\n",
            "Input: (0, 1)  Output: 0\n",
            "Input: (1, 0)  Output: 0\n",
            "Input: (1, 1)  Output: 1\n"
          ]
        }
      ],
      "source": [
        "# Program :Write a python program to implement perceptron using AND gate.\n",
        "w1, w2, b = 0.7, 0.3, -0.1\n",
        "\n",
        "\n",
        "def activate(x):\n",
        "    return 1 if x >= 0 else 0\n",
        "\n",
        "\n",
        "def train_perceptron(inputs, desired_outputs, learning_rate, epochs):\n",
        "    global w1, w2, b\n",
        "    for epoch in range(epochs):\n",
        "        total_error = 0\n",
        "        for i in range(len(inputs)):\n",
        "            A, B = inputs[i]\n",
        "            target_output = desired_outputs[i]\n",
        "            output = activate(w1 * A + w2 * B + b)\n",
        "            error = target_output - output\n",
        "            w1 += learning_rate * error * A\n",
        "            w2 += learning_rate * error * B\n",
        "            b += learning_rate * error\n",
        "            total_error += abs(error)\n",
        "        if total_error == 0:\n",
        "            break\n",
        "\n",
        "\n",
        "    print(\"Updated Weights:\")\n",
        "    print(f\"w1: {w1}, w2: {w2}, b: {b}\")\n",
        "\n",
        "\n",
        "inputs = [(0, 0), (0, 1), (1, 0), (1, 1)]\n",
        "desired_outputs = [0, 0, 0, 1]\n",
        "learning_rate = 0.1\n",
        "epochs = 100\n",
        "\n",
        "\n",
        "train_perceptron(inputs, desired_outputs, learning_rate, epochs)\n",
        "\n",
        "\n",
        "for i in range(len(inputs)):\n",
        "    A, B = inputs[i]\n",
        "    output = activate(w1 * A + w2 * B + b)\n",
        "    print(f\"Input: ({A}, {B})  Output: {output}\")\n"
      ]
    },
    {
      "cell_type": "markdown",
      "source": [
        "# Using OR Gate"
      ],
      "metadata": {
        "id": "RkOEcws2xFs9"
      }
    },
    {
      "cell_type": "code",
      "source": [
        "# Program :Write a python program to implement perceptron using OR gate.\n",
        "w1, w2, b = 0.5, 0.5, -0.5  # Initial weights and bias for OR gate\n",
        "\n",
        "def activate(x):\n",
        "    return 1 if x >= 0 else 0\n",
        "\n",
        "def train_perceptron(inputs, desired_outputs, learning_rate, epochs):\n",
        "    global w1, w2, b\n",
        "    for epoch in range(epochs):\n",
        "        total_error = 0\n",
        "        for i in range(len(inputs)):\n",
        "            A, B = inputs[i]\n",
        "            target_output = desired_outputs[i]\n",
        "            output = activate(w1 * A + w2 * B + b)\n",
        "            error = target_output - output\n",
        "            w1 += learning_rate * error * A\n",
        "            w2 += learning_rate * error * B\n",
        "            b += learning_rate * error\n",
        "            total_error += abs(error)\n",
        "        if total_error == 0:\n",
        "            break\n",
        "\n",
        "    print(\"Updated Weights:\")\n",
        "    print(f\"w1: {w1}, w2: {w2}, b: {b}\")\n",
        "\n",
        "\n",
        "# OR gate inputs and desired outputs\n",
        "inputs_or = [(0, 0), (0, 1), (1, 0), (1, 1)]\n",
        "desired_outputs_or = [0, 1, 1, 1]  # Updated for OR gate\n",
        "\n",
        "learning_rate = 0.1\n",
        "epochs = 100\n",
        "\n",
        "train_perceptron(inputs_or, desired_outputs_or, learning_rate, epochs)\n",
        "\n",
        "# Testing OR gate\n",
        "print(\"\\nTesting OR gate:\")\n",
        "for i in range(len(inputs_or)):\n",
        "    A, B = inputs_or[i]\n",
        "    output = activate(w1 * A + w2 * B + b)\n",
        "    print(f\"Input: ({A}, {B})  Output: {output}\")\n"
      ],
      "metadata": {
        "colab": {
          "base_uri": "https://localhost:8080/"
        },
        "id": "I8EEDYTkwxuw",
        "outputId": "c209a99f-5d57-49b4-c605-fa7561a6c16d"
      },
      "execution_count": 3,
      "outputs": [
        {
          "output_type": "stream",
          "name": "stdout",
          "text": [
            "Updated Weights:\n",
            "w1: 0.5, w2: 0.5, b: -0.5\n",
            "\n",
            "Testing OR gate:\n",
            "Input: (0, 0)  Output: 0\n",
            "Input: (0, 1)  Output: 1\n",
            "Input: (1, 0)  Output: 1\n",
            "Input: (1, 1)  Output: 1\n"
          ]
        }
      ]
    }
  ]
}